{
 "cells": [
  {
   "cell_type": "code",
   "execution_count": 17,
   "metadata": {},
   "outputs": [],
   "source": [
    "# -*- coding: utf-8 -*-\n",
    "import pandas as pd\n",
    "import io"
   ]
  },
  {
   "cell_type": "code",
   "execution_count": 42,
   "metadata": {},
   "outputs": [
    {
     "name": "stdout",
     "output_type": "stream",
     "text": [
      "[u'Address', u'AdmArea', u'CurrentLicenseState', u'DateOfDecision', u'District', u'Email', u'ID', u'INN', u'InstallDateOfCurrentLicenseState', u'JobType', u'KPP', u'KPPSeparateDivision', u'LegalAddress', u'LicenseBegin', u'LicenseExpire', u'LicenseNumber', u'LicenseNumberInRegistry', u'NameOfLicensingAuthority', u'ObjectName', u'ObjectNameOnDoc', u'SubjectName', u'geoData', u'global_id']\n"
     ]
    }
   ],
   "source": [
    "data_obj = pd.read_json('objects_with_alc_lic.json') # объекты с сайта data.mos.ru\n",
    "data_lic = pd.read_csv('roznica.csv', delimiter=';') # http://fsrar.ru\n",
    "data_lic = data_lic.rename(index=str, columns={'ИНН организации':'INN'})\n",
    "\n",
    "# merged_data = data_obj.merge(data_lic, on='INN')\n",
    "# print merged_data['INN'], merged_data['Дата окончания действия лицензии']\n",
    "\n",
    "print list(data_obj)\n",
    "\n",
    "output = '[\\n'\n",
    "for (index, row) in data_obj.iterrows():\n",
    "    output += \"{\\n\" + \"\\t\\\"type\\\":\" + \"\\\"competitors\\\",\\n\"\n",
    "    output += \"\\t\\\"lat\\\": \" + str(row['geoData']['coordinates'][1]) + \",\\n\"\n",
    "    output += \"\\t\\\"lon\\\": \" + str(row['geoData']['coordinates'][0])\n",
    "    output += \"\\n},\\n\"\n",
    "output = output[:-2] + \"]\"\n",
    "open('copmpetitors.json', 'w').write(output)"
   ]
  },
  {
   "cell_type": "code",
   "execution_count": null,
   "metadata": {},
   "outputs": [],
   "source": []
  }
 ],
 "metadata": {
  "kernelspec": {
   "display_name": "Python 2",
   "language": "python",
   "name": "python2"
  },
  "language_info": {
   "codemirror_mode": {
    "name": "ipython",
    "version": 2
   },
   "file_extension": ".py",
   "mimetype": "text/x-python",
   "name": "python",
   "nbconvert_exporter": "python",
   "pygments_lexer": "ipython2",
   "version": "2.7.14"
  }
 },
 "nbformat": 4,
 "nbformat_minor": 2
}
